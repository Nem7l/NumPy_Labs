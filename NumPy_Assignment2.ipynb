{
 "cells": [
  {
   "cell_type": "markdown",
   "id": "5ffb93ae",
   "metadata": {},
   "source": [
    "# Q1: Import numpy library"
   ]
  },
  {
   "cell_type": "code",
   "execution_count": 4,
   "id": "936d4703",
   "metadata": {},
   "outputs": [],
   "source": [
    "# write your code here ^_^\n",
    "import numpy as np"
   ]
  },
  {
   "cell_type": "markdown",
   "id": "b6991a89",
   "metadata": {},
   "source": [
    "# Q2: Generate a sequence of 15 floats using linspace() function"
   ]
  },
  {
   "cell_type": "code",
   "execution_count": 6,
   "id": "43bf04a5",
   "metadata": {},
   "outputs": [
    {
     "name": "stdout",
     "output_type": "stream",
     "text": [
      "[0.         0.21428571 0.42857143 0.64285714 0.85714286 1.07142857\n",
      " 1.28571429 1.5        1.71428571 1.92857143 2.14285714 2.35714286\n",
      " 2.57142857 2.78571429 3.        ]\n"
     ]
    }
   ],
   "source": [
    "# write your code here ^_^\n",
    "sequence = np.linspace(0.0 , 3.0, 15)\n",
    "print(sequence)"
   ]
  },
  {
   "cell_type": "markdown",
   "id": "7144bba8",
   "metadata": {},
   "source": [
    "# Q3: Create a 3-D array in shape (2, 2, 3) containing the four arrays given below \n",
    "Note : the array's name is up to you.\n",
    "\n",
    "|      |       |          |         |\n",
    "|------| ----- | -------- | ------- |\n",
    "|arr1 | 1.1    | 2.1       | 3.1        |\n",
    "|arr2 | 4.1    | 5.1       | 6.1        |\n",
    "|arr3 | 7.1    | 8.1       | 9.1        |\n",
    "|arr4 | 10.1   | 11.1      | 12.1       |"
   ]
  },
  {
   "cell_type": "code",
   "execution_count": 7,
   "id": "c1c3f9dc",
   "metadata": {},
   "outputs": [
    {
     "name": "stdout",
     "output_type": "stream",
     "text": [
      "[[[ 1.1  2.1  3.1]\n",
      "  [ 4.1  5.1  6.1]]\n",
      "\n",
      " [[ 7.1  8.1  9.1]\n",
      "  [10.1 11.1 12.1]]]\n"
     ]
    }
   ],
   "source": [
    "# write your code here ^_^\n",
    "arr1 = np.array([1.1, 2.1, 3.1])\n",
    "arr2 = np.array([4.1, 5.1, 6.1])\n",
    "arr3 = np.array([7.1, 8.1, 9.1])\n",
    "arr4 = np.array([10.1, 11.1, 12.1])\n",
    "\n",
    "array3D = np.array([[arr1, arr2], [arr3, arr4]])\n",
    "print(array3D)"
   ]
  },
  {
   "cell_type": "markdown",
   "id": "807acbf6",
   "metadata": {},
   "source": [
    "# Q4: Print the following:\n",
    "Note: use the same array from Q3.\n",
    "- Array's type.\n",
    "- Array's elements datatype.\n",
    "- Array's shape.\n",
    "- Array's size.\n",
    "- Array's dimention."
   ]
  },
  {
   "cell_type": "code",
   "execution_count": 10,
   "id": "6e90d6a0",
   "metadata": {},
   "outputs": [
    {
     "name": "stdout",
     "output_type": "stream",
     "text": [
      "Array's type:  <class 'numpy.ndarray'>\n",
      "Array's datatype:  float64\n",
      "Array's shape:  (2, 2, 3)\n",
      "Array's size:  12\n",
      "Array's dimension:  3\n"
     ]
    }
   ],
   "source": [
    "# write your code here ^_^\n",
    "print(\"Array's type: \", type(array3D))\n",
    "print(\"Array's datatype: \", array3D.dtype)\n",
    "print(\"Array's shape: \", array3D.shape)\n",
    "print(\"Array's size: \", array3D.size)\n",
    "print(\"Array's dimension: \", array3D.ndim)"
   ]
  },
  {
   "cell_type": "markdown",
   "id": "db4958b5",
   "metadata": {},
   "source": [
    "# Q5:  Change the array dimention from 3-D to 4-D\n",
    "Note: use the same array from Q3.\n",
    "- Create a new array to hold the changes. \n",
    "- Print the new array's dimention and shape."
   ]
  },
  {
   "cell_type": "code",
   "execution_count": 28,
   "id": "e9f5c88c",
   "metadata": {},
   "outputs": [
    {
     "name": "stdout",
     "output_type": "stream",
     "text": [
      "Array's dimension:  4\n",
      "Array's shape:  (1, 2, 2, 3)\n"
     ]
    }
   ],
   "source": [
    "# write your code here ^_^\n",
    "\n",
    "array4D = np.expand_dims(array3D, axis=0)\n",
    "print(\"Array's dimension: \", array4D.ndim)\n",
    "print(\"Array's shape: \", array4D.shape)"
   ]
  },
  {
   "cell_type": "markdown",
   "id": "454f2504",
   "metadata": {},
   "source": [
    "# Q6: Change the array's elements datatype to integer  \n",
    "Note: use the same array from Q5.\n",
    "\n",
    "- Create a new array to hold the changes. \n",
    "- Print the new array."
   ]
  },
  {
   "cell_type": "code",
   "execution_count": 29,
   "id": "8135b045",
   "metadata": {},
   "outputs": [
    {
     "name": "stdout",
     "output_type": "stream",
     "text": [
      "[[[[ 1  2  3]\n",
      "   [ 4  5  6]]\n",
      "\n",
      "  [[ 7  8  9]\n",
      "   [10 11 12]]]]\n"
     ]
    }
   ],
   "source": [
    "# write your code here ^_^\n",
    "arrayInt=array4D.astype(int)\n",
    "print(arrayInt)"
   ]
  },
  {
   "cell_type": "markdown",
   "id": "ab90badc",
   "metadata": {},
   "source": [
    "# Q7: Print all array's elements using for loop\n",
    "Note: use the same array from Q6.\n",
    "\n",
    "Hint: use nditer()"
   ]
  },
  {
   "cell_type": "code",
   "execution_count": 30,
   "id": "a0d58d15",
   "metadata": {},
   "outputs": [
    {
     "name": "stdout",
     "output_type": "stream",
     "text": [
      "1\n",
      "2\n",
      "3\n",
      "4\n",
      "5\n",
      "6\n",
      "7\n",
      "8\n",
      "9\n",
      "10\n",
      "11\n",
      "12\n"
     ]
    }
   ],
   "source": [
    "# write your code here ^_^\n",
    "for i in np.nditer(arrayInt) : \n",
    " print(i)"
   ]
  },
  {
   "cell_type": "markdown",
   "id": "afa8b5f3",
   "metadata": {},
   "source": [
    "# Q8:  Print number 8 using array slicing\n",
    "Note: use the same array from Q6."
   ]
  },
  {
   "cell_type": "code",
   "execution_count": 62,
   "id": "6e12e2d7",
   "metadata": {},
   "outputs": [
    {
     "name": "stdout",
     "output_type": "stream",
     "text": [
      "8\n"
     ]
    }
   ],
   "source": [
    "# write your code here ^_^\n",
    "num8 = arrayInt[0,1,0,1]\n",
    "print(num8)"
   ]
  },
  {
   "cell_type": "markdown",
   "id": "e2e71895",
   "metadata": {},
   "source": [
    "# Q9: Print number 5 and number 6 using array slicing\n",
    "Note: use the same array from Q6."
   ]
  },
  {
   "cell_type": "code",
   "execution_count": 64,
   "id": "c3218bcb",
   "metadata": {},
   "outputs": [
    {
     "name": "stdout",
     "output_type": "stream",
     "text": [
      "[5 6]\n"
     ]
    }
   ],
   "source": [
    "# write your code here ^_^\n",
    "num5_6 = arrayInt[0, 0, 1, 1:3]\n",
    "print(num5_6)"
   ]
  },
  {
   "cell_type": "markdown",
   "id": "e5d63cd3",
   "metadata": {},
   "source": [
    "# Q10: Search for number 8 using where()\n",
    "Note: use the same array from Q6.\n",
    "\n",
    "Note: where() is only used with small data.\n",
    "\n",
    "*the output represents the path of the index that leads to number 8*"
   ]
  },
  {
   "cell_type": "code",
   "execution_count": 67,
   "id": "ddaf0146",
   "metadata": {},
   "outputs": [
    {
     "name": "stdout",
     "output_type": "stream",
     "text": [
      "(array([0]), array([1]), array([0]), array([1]))\n"
     ]
    }
   ],
   "source": [
    "# write your code here ^_^\n",
    "search8 = np.where(arrayInt == 8)\n",
    "print(search8)\n"
   ]
  },
  {
   "cell_type": "markdown",
   "id": "c89f41ad",
   "metadata": {},
   "source": [
    "# Q11: Reshape the array as the following\n",
    "\n",
    "    array([[[ 1, 2],\n",
    "            [ 3,  4],\n",
    "            [ 5,  6]],\n",
    "\n",
    "           [[ 7,  8],\n",
    "            [ 9, 10],\n",
    "            [11, 12]]])\n",
    "            \n",
    " Note: use the same array from Q6."
   ]
  },
  {
   "cell_type": "code",
   "execution_count": 68,
   "id": "d9b632bd",
   "metadata": {},
   "outputs": [
    {
     "name": "stdout",
     "output_type": "stream",
     "text": [
      "[[[ 1  2]\n",
      "  [ 3  4]\n",
      "  [ 5  6]]\n",
      "\n",
      " [[ 7  8]\n",
      "  [ 9 10]\n",
      "  [11 12]]]\n"
     ]
    }
   ],
   "source": [
    "# write your code here ^_^\n",
    "reshaped = arrayInt.reshape(2 ,3 ,2)\n",
    "print(reshaped)"
   ]
  },
  {
   "cell_type": "markdown",
   "id": "539c16b1",
   "metadata": {},
   "source": [
    "# Q12: Join the given arrays below \n",
    "    arr1 = np.array([['A', 'B'], ['E', 'F']])\n",
    "    arr2 = np.array([['C', 'D'], ['G', 'H']])\n",
    "## Q12.1: Join the arrays without specifying the axis "
   ]
  },
  {
   "cell_type": "code",
   "execution_count": 71,
   "id": "d6acdeaf",
   "metadata": {},
   "outputs": [
    {
     "name": "stdout",
     "output_type": "stream",
     "text": [
      "[['A' 'B']\n",
      " ['E' 'F']\n",
      " ['C' 'D']\n",
      " ['G' 'H']]\n"
     ]
    }
   ],
   "source": [
    "# write your code here ^_^\n",
    "arr1 = np.array([['A', 'B'], ['E', 'F']])\n",
    "arr2 = np.array([['C', 'D'], ['G', 'H']])\n",
    "joineArr = np.concatenate((arr1, arr2))\n",
    "print(joineArr)"
   ]
  },
  {
   "cell_type": "markdown",
   "id": "1a37dd47",
   "metadata": {},
   "source": [
    "# Q12.2: Join the arrays along rows with axis = 1 "
   ]
  },
  {
   "cell_type": "code",
   "execution_count": 72,
   "id": "b849658c",
   "metadata": {},
   "outputs": [
    {
     "name": "stdout",
     "output_type": "stream",
     "text": [
      "[['A' 'B' 'C' 'D']\n",
      " ['E' 'F' 'G' 'H']]\n"
     ]
    }
   ],
   "source": [
    "# write your code here ^_^\n",
    "joineArr = np.concatenate((arr1, arr2), axis=1)\n",
    "print(joineArr)"
   ]
  },
  {
   "cell_type": "markdown",
   "id": "7296eecf",
   "metadata": {},
   "source": [
    "# Q13: Split the array into two arrays with axis = 1, each array should contain four arrays. \n",
    "Note: use the same array from Q12.1"
   ]
  },
  {
   "cell_type": "code",
   "execution_count": 76,
   "id": "7f7f5e49",
   "metadata": {},
   "outputs": [
    {
     "name": "stdout",
     "output_type": "stream",
     "text": [
      "[['A' 'B']\n",
      " ['E' 'F']]\n",
      "[['C' 'D']\n",
      " ['G' 'H']]\n"
     ]
    }
   ],
   "source": [
    "# write your code here ^_^\n",
    "splitArray = np.split(joineArr, 2, axis= 1)\n",
    "for s in splitArray:\n",
    "    print(s)"
   ]
  }
 ],
 "metadata": {
  "kernelspec": {
   "display_name": "Python 3 (ipykernel)",
   "language": "python",
   "name": "python3"
  },
  "language_info": {
   "codemirror_mode": {
    "name": "ipython",
    "version": 3
   },
   "file_extension": ".py",
   "mimetype": "text/x-python",
   "name": "python",
   "nbconvert_exporter": "python",
   "pygments_lexer": "ipython3",
   "version": "3.11.7"
  }
 },
 "nbformat": 4,
 "nbformat_minor": 5
}
